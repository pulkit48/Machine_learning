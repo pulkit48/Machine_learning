{
  "nbformat": 4,
  "nbformat_minor": 0,
  "metadata": {
    "colab": {
      "provenance": [],
      "authorship_tag": "ABX9TyMZn2PFuj5YLbdX80B78fgx",
      "include_colab_link": true
    },
    "kernelspec": {
      "name": "python3",
      "display_name": "Python 3"
    },
    "language_info": {
      "name": "python"
    }
  },
  "cells": [
    {
      "cell_type": "markdown",
      "metadata": {
        "id": "view-in-github",
        "colab_type": "text"
      },
      "source": [
        "<a href=\"https://colab.research.google.com/github/pulkit48/Machine_learning/blob/main/Random%20Forest/Random_Forest_3.ipynb\" target=\"_parent\"><img src=\"https://colab.research.google.com/assets/colab-badge.svg\" alt=\"Open In Colab\"/></a>"
      ]
    },
    {
      "cell_type": "markdown",
      "source": [
        "# **How Random forest works better than a single decision tree**"
      ],
      "metadata": {
        "id": "_Erh-CTbdP_N"
      }
    },
    {
      "cell_type": "code",
      "source": [],
      "metadata": {
        "id": "Gk6BXaMddbjT"
      },
      "execution_count": null,
      "outputs": []
    }
  ]
}